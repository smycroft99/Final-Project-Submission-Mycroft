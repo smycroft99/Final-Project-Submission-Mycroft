{
 "cells": [
  {
   "cell_type": "code",
   "execution_count": 1,
   "metadata": {},
   "outputs": [
    {
     "data": {
      "text/html": [
       "<div id=\"glowscript\" class=\"glowscript\"></div>"
      ],
      "text/plain": [
       "<IPython.core.display.HTML object>"
      ]
     },
     "metadata": {},
     "output_type": "display_data"
    },
    {
     "data": {
      "application/javascript": [
       "if (typeof Jupyter !== \"undefined\") { window.__context = { glowscript_container: $(\"#glowscript\").removeAttr(\"id\")};}else{ element.textContent = ' ';}"
      ],
      "text/plain": [
       "<IPython.core.display.Javascript object>"
      ]
     },
     "metadata": {},
     "output_type": "display_data"
    }
   ],
   "source": [
    "#Import functions to use during program\n",
    "import numpy as np\n",
    "import math\n",
    "import matplotlib.pyplot as plt\n",
    "import random as rand\n",
    "import ode\n",
    "import ipywidgets as widgets\n",
    "\n",
    "from IPython.display import display\n",
    "from vpython import *\n",
    "from mpl_toolkits import mplot3d\n",
    "from mpl_toolkits.mplot3d import Axes3D"
   ]
  },
  {
   "cell_type": "code",
   "execution_count": 2,
   "metadata": {},
   "outputs": [],
   "source": [
    "#Function definitions\n",
    "def mag(v):           #Calculate magnitude of an array\n",
    "    return np.sqrt(np.dot(v,v))\n",
    "\n",
    "def hat(v):           #Calculate unit vector of an array\n",
    "    return v/mag(v)\n",
    "\n",
    "def cross(v1,v2):     #Calculate cross product of two arrays\n",
    "    return np.cross(v1,v2)\n",
    "\n",
    "def getCd(v):         #Return the value of Cd depending on the speed of the ball\n",
    "    a = 0.36\n",
    "    b = 0.14\n",
    "    c = 0.27\n",
    "    vc = 34\n",
    "    chi = (v - vc)/4\n",
    "    if chi < 0:\n",
    "        Cd = a + b/(1+np.exp(chi)) - c*np.exp(-chi**2)\n",
    "    else:\n",
    "        Cd = a + b/(1+np.exp(chi)) - c*np.exp(-chi**2/4)\n",
    "    \n",
    "    return Cd\n",
    "\n",
    "def model_magnus_2(d, tn): #Return array of derivatives\n",
    "                           #rate[3]-rate[5] give accelerations due to magnus, drag, and gravity\n",
    "        \n",
    "    #data\n",
    "    x = d[0]\n",
    "    y = d[1]\n",
    "    z = d[2]\n",
    "    vx = d[3]\n",
    "    vy = d[4]\n",
    "    vz = d[5]\n",
    "    omegamag = d[6]\n",
    "    omega = d[7:]\n",
    "    \n",
    "    #derivatives\n",
    "    rate = np.zeros(len(d)) #derivatives\n",
    "    rate[0] = vx\n",
    "    rate[1] = vy\n",
    "    rate[2] = vz\n",
    "    #print(x, y, z, vx, vy, vz)\n",
    "    \n",
    "    #speed\n",
    "    v = np.array([vx,vy,vz])\n",
    "    vmag = mag(v)\n",
    "    \n",
    "    #calculate magnus force\n",
    "    Cd=getCd(vmag)\n",
    "    b2 = 1/2*Cd*rho*A\n",
    "    \n",
    "    S = r*omegamag/vmag\n",
    "    CL = 0.62*S**0.7\n",
    "    alpha = 1/2*CL*rho*A*r/S\n",
    "    \n",
    "    FM = alpha*cross(omega,v) #magnus force\n",
    "    \n",
    "    speed = np.sqrt(rate[0]**2+rate[1]**2+rate[2]**2)\n",
    "    \n",
    "    #calculate dv/dt due to all forces\n",
    "    #          [Linear Drag]  [Magnus]  [velocity dependent drag]                         [grav]\n",
    "    rate[3] = -b2*vmag*vx/m + FM[0]/m - (6*np.pi*mu*r*speed*vx+0.5*Cd*rho*A*speed*vx)/m\n",
    "    rate[4] = -b2*vmag*vy/m + FM[1]/m - (6*np.pi*mu*r*speed*vy+0.5*Cd*rho*A*speed*vy)/m - g\n",
    "    rate[5] = -b2*vmag*vz/m + FM[2]/m - (6*np.pi*mu*r*speed*vz+0.5*Cd*rho*A*speed*vz)/m\n",
    "    \n",
    "    #return derivative values\n",
    "    return rate\n",
    "\n",
    "def run_magnus_2(data): # run simulation\n",
    "    global b2, alpha, i, bounceDamp # need to change the value of b2 and alpha\n",
    "    \n",
    "    v = data[3:6]\n",
    "    vmag = mag(v)\n",
    "\n",
    "    #time\n",
    "    t = 0\n",
    "    h= 0.01\n",
    "    Nsteps = int(10/h)\n",
    "\n",
    "    #store trajectory for plotting or animation\n",
    "    traj = np.zeros((Nsteps, 4)) #store t, x, y, z for plotting\n",
    "    traj[0,:] = np.array([t, data[0], data[1], data[2]]) #store initial time and position\n",
    "\n",
    "    for n in range(0,Nsteps-1):\n",
    "\n",
    "        #update data\n",
    "        data = ode.RK4(model_magnus_2, data, t, h)\n",
    "        \n",
    "        #Bounce off ground and lose energy\n",
    "        if(data[1]<0):\n",
    "            data[1] = -data[1]\n",
    "            data[3] = data[3]*bounceDamp\n",
    "            data[4] = -data[4]*bounceDamp\n",
    "            data[5] = data[5]*bounceDamp\n",
    "\n",
    "        #update t\n",
    "        t = t + h\n",
    "\n",
    "        #store data for plotting\n",
    "        traj[n+1,:] = np.array([t, data[0], data[1], data[2]])\n",
    "    \n",
    "    return traj"
   ]
  },
  {
   "cell_type": "code",
   "execution_count": 3,
   "metadata": {},
   "outputs": [],
   "source": [
    "#Will not drop out until all answers are valid\n",
    "def userInput():\n",
    "    userArray=np.zeros(7, dtype=float)\n",
    "    while(1):\n",
    "        print(\"What spin would you like to see?\")\n",
    "        print(\"[1] - Spin in direction of motion\")\n",
    "        print(\"[2] - Side spin\")\n",
    "        print(\"[3] - Top spin\")\n",
    "        print(\"[4] - All spin\")\n",
    "        UserInput = input()\n",
    "        userArray[0] = int(UserInput)-1\n",
    "        if(userArray[0]!=0 and userArray[0]!=1 and userArray[0]!=2 and userArray[0]!=3):\n",
    "            print(\"That is not a valid input, please enter 1, 2, 3, or 4.\")\n",
    "            print(\"\")\n",
    "        else:\n",
    "            break\n",
    "\n",
    "    print(\"Magnitude of ball's spin in rotations per minute (600rpm is a good approximate value)\")\n",
    "    UserInput = input()\n",
    "    userArray[1] = int(UserInput)\n",
    "    if(userArray[1]==0):\n",
    "        userArray[1] = 1e-10\n",
    "    userArray[1] = userArray[1] * np.pi/30\n",
    "\n",
    "    while(1):    \n",
    "        print(\"Magnitude of ball's velocity immediately after kick in miles per hour (70mph is a good approximate value)\")\n",
    "        UserInput = input()\n",
    "        userArray[2] = float(UserInput)\n",
    "        if (userArray[2]<=0):\n",
    "            print(\"Velocity must be greater than 0mph\")\n",
    "        else:\n",
    "            userArray[2] = userArray[2]/2.237\n",
    "            break\n",
    "    while(1):\n",
    "        print(\"How much loft would you like to give the ball? (Loft is the vertical angle relative to the ground where 0=flat along the ground and 90=directly vertical.) A standard shot at 70mph will hit the cross bar at an angle of ~17-18 degrees\")\n",
    "        print(\"WARNING: A higher loft angle will take longer to simulate due to the iteration setup\")\n",
    "        UserInput = input()\n",
    "        userArray[3] = float(UserInput)\n",
    "        if (userArray[3]<0 or userArray[3]>=90):\n",
    "            print(\"Angle must be between 0 and 90 degrees to aim at the goal\")\n",
    "        else:\n",
    "            userArray[3] = -userArray[3] * np.pi/180\n",
    "            break\n",
    "\n",
    "    while(1):\n",
    "        print(\"How much range would you like to give the ball? (Range is the horizontal angle relative to the center of the goal where 0=center of the goal, -90=directly to your left, and 90=directly to your right.) With no spin, an angle of +/-18.4 degress will hit the goal post\")\n",
    "        UserInput = input()\n",
    "        userArray[4] = float(UserInput)\n",
    "        if (userArray[4]<-90 or userArray[4]>=90):\n",
    "            print(\"Angle must be between -90 and 90 degrees to aim at the goal (0 for center of goal)\")\n",
    "        else:\n",
    "            userArray[4] = userArray[4] * np.pi/180\n",
    "            break\n",
    "\n",
    "    while(1):\n",
    "        print(\"How many balls would you like to simulate? (Note: More shots will take longer to run. 100 shots takes ~25 sec to run)\")\n",
    "        UserInput = input()\n",
    "        userArray[5] = float(UserInput)\n",
    "        if(userArray[5]<=0 or userArray[5]%1!=0):\n",
    "            print(\"Please enter a positive integer number of shots to simulate\")\n",
    "        else:\n",
    "            userArray[5]=int(userArray[5])\n",
    "            break\n",
    "\n",
    "    while(1):\n",
    "        print(\"Would you like to display lines that miss the goal?\")\n",
    "        print(\"[1] - Display all trajectories in full color\")\n",
    "        print(\"[2] - Display all trajectories that hit the goal in color, display trajectories that miss in black\")\n",
    "        print(\"[3] - Display all trajectories that hit the goal in color, display trajectories that miss at 2% opacity in color\")\n",
    "        UserInput = input()\n",
    "        userArray[6] = int(UserInput)\n",
    "        if (userArray[6] == 1 or userArray[6] == 2 or userArray[6] == 3):\n",
    "            break\n",
    "        else:\n",
    "            print(\"Please enter 1, 2, or 3\")\n",
    "            \n",
    "    ###### Easter Egg!!!\n",
    "    if(userArray[0]==2 and userArray[1]==np.pi/30 and userArray[2]==4/2.237 and userArray[3]==1*(np.pi/180) and userArray[4]==5*(np.pi/180) and userArray[5]==9 and userArray[6]==2):\n",
    "        print(\"                           .-.\")\n",
    "        print(\"                          |_:_|\")\n",
    "        print(\"                         /(_Y_)\\ \")\n",
    "        print(\"    .                   ( \\/M\\/ )\")\n",
    "        print(\"     '.               _.'-/'-'\\-'._\")\n",
    "        print(\"       ':           _/.--'[[[[]'--.\\_\")\n",
    "        print(\"         ':        /_'  : |::\\\"| :  '.\\ \")\n",
    "        print(\"           ':     //   ./ |oUU| \\.'  :\\ \")\n",
    "        print(\"             ':  _:'..' \\_|___|_/ :   :|\")\n",
    "        print(\"               ':.  .'  |_[___]_|  :.':\\ \")\n",
    "        print(\"                [::\\ |  :  | |  :   ; : \\ \")\n",
    "        print(\"                 '-'   \\/'.| |.' \\  .;.' |\")\n",
    "        print(\"                 |\\_    \\  '-'   :       |\")\n",
    "        print(\"                 |  \\    \\ .:    :   |   |\")\n",
    "        print(\"                 |   \\    | '.   :    \\  |\")\n",
    "        print(\"                 /       \\   :. .;       |\")\n",
    "        print(\"                /     |   |  :__/     :  \\\\\")\n",
    "        print(\"               |  |   |    \\:   | \\   |   ||\")\n",
    "        print(\"              /    \\  : :  |:   /  |__|   /|\")\n",
    "        print(\"              |     : : :_/_|  /'._\\  '--|_\\ \")\n",
    "        print(\"              /___.-/_|-'   \\  \\ \")\n",
    "        print(\"                  '-'\")\n",
    "        print(\"        COME TO THE DARK SIDE, WE HAVE EASTER EGGS\")\n",
    "        print(\"\")\n",
    "\n",
    "    return(userArray)\n",
    "#userArray[0] = Case: What type of spin will be depicted\n",
    "#userArray[1] = Spin Rate: Magnitude of the balls spin in RPM\n",
    "#userArray[2] = Velocity: Velocity of the ball at kick in mps\n",
    "#userArray[3] = Loft: The vertical angle the ball is kicked at in radians (theta)\n",
    "#userArray[4] = Range: The horizontal angle the ball is kicked at in radians (phi)\n",
    "#userArray[5] = N Balls: How many balls should be simulated\n",
    "#userArray[6] = Color: What form of coloring should be used"
   ]
  },
  {
   "cell_type": "code",
   "execution_count": 4,
   "metadata": {},
   "outputs": [],
   "source": [
    "def simulation():\n",
    "    global shotPos\n",
    "    simParam = userInput()\n",
    "    \n",
    "    #Kick parameters such as randomized spin and inital position\n",
    "    x0 = shotPos[0]\n",
    "    y0 = shotPos[1]\n",
    "    z0 = shotPos[2]\n",
    "    vx0 = simParam[2]*np.cos(simParam[3])*np.sin(simParam[4])\n",
    "    vy0 = simParam[2]*np.sin(simParam[3])\n",
    "    vz0 = simParam[2]*np.cos(simParam[3])*np.cos(simParam[4])\n",
    "    print(vx0, vy0, vz0)\n",
    "    \n",
    "    d = ([x0, y0, z0, vx0, vy0, vz0, simParam[1], 0, 0, 0])\n",
    "    \n",
    "    omega = []\n",
    "    traj = []\n",
    "    for i in range(0,int(simParam[5])):\n",
    "        #Create random spins for each simulated ball\n",
    "        omX = rand.randint(-100,100)\n",
    "        omY = rand.randint(-100,100)\n",
    "        omZ = rand.randint(-100,100)\n",
    "        omMag = np.sqrt(omX**2+omY**2+omZ**2)\n",
    "\n",
    "        omX = omX/omMag*simParam[1]\n",
    "        omY = omY/omMag*simParam[1]\n",
    "        omZ = omZ/omMag*simParam[1]\n",
    "\n",
    "        omega.append([omX, omY, omZ])\n",
    "        d[7:] = omega[-1]\n",
    "        \n",
    "        #Magnus Effect Calculations\n",
    "        temp = run_magnus_2(d)         #Simulate model for one ball with i-th [omega] vector\n",
    "        traj.append(temp)\n",
    "    return traj"
   ]
  },
  {
   "cell_type": "code",
   "execution_count": 41,
   "metadata": {},
   "outputs": [
    {
     "name": "stdout",
     "output_type": "stream",
     "text": [
      "<0, 0.185788, 40.2316>\n"
     ]
    }
   ],
   "source": [
    "#Field parameters such as goal size, field length, etc\n",
    "L = 36                          #ft, Distance from penalty spot to goal in ft\n",
    "crossbar = 8 #ft                #Height of goal cross bar in ft\n",
    "field = 100  #ft                #Length of field in ft\n",
    "\n",
    "#Ball parameters such as diameter and mass\n",
    "r = 0.11                        #.22 m diameter\n",
    "A = np.pi*r**2                  #cross-sectional area\n",
    "m = 0.4536                      #kg\n",
    "\n",
    "#Physical constants such as gravity\n",
    "g = 9.8                         #N/kg\n",
    "rho = 1.2                       #kg/m^3\n",
    "mu = 1.8e-5                     #kg/m/s\n",
    "\n",
    "#Conversion of necessary parameters from imperial to metric\n",
    "L = L/3.281                     #Convert distance to goal line to meters\n",
    "crossbar = crossbar/3.281       #Convert crossbar height to meters\n",
    "field = field/3.281             #Convert field length to meters\n",
    "bounceDamp = 0.9                #Decimal value between 0 and 1 that represents energy conserved after\n",
    "                                #ball bounces off ground\n",
    "\n",
    "#Define positions of shot and locations of goals\n",
    "shotPos = [0, 0, 114]\n",
    "gol1Pos = [0, crossbar/2, 150]\n",
    "gol2Pos = [0, crossbar/2, -150]\n",
    "for i in range(3):              #Convert shot position and goal positions to meters\n",
    "    shotPos[i] = shotPos[i]/3.281\n",
    "    gol1Pos[i] = gol1Pos[i]/3.281\n",
    "    gol2Pos[i] = gol2Pos[i]/3.281\n",
    "diff = np.sqrt((shotPos[0]-gol1Pos[0])**2+(shotPos[1]-gol1Pos[1])**2+(shotPos[2]-gol1Pos[2])**2)\n",
    "camPos = vec((shotPos[0]+gol1Pos[0])/2, (shotPos[1]+gol1Pos[1])/2, (shotPos[2]+gol1Pos[2])/2)\n",
    "print(camPos)\n",
    "\n",
    "#Loop parameters\n",
    "Nsteps = 1000                   #Number of steps each ball will take (1000 is good baseline)\n",
    "t = 0                           #time\n",
    "h = 0.01                        #dt"
   ]
  },
  {
   "cell_type": "code",
   "execution_count": 32,
   "metadata": {},
   "outputs": [
    {
     "name": "stdout",
     "output_type": "stream",
     "text": [
      "What spin would you like to see?\n",
      "[1] - Spin in direction of motion\n",
      "[2] - Side spin\n",
      "[3] - Top spin\n",
      "[4] - All spin\n"
     ]
    },
    {
     "ename": "KeyboardInterrupt",
     "evalue": "Interrupted by user",
     "output_type": "error",
     "traceback": [
      "\u001b[1;31m---------------------------------------------------------------------------\u001b[0m",
      "\u001b[1;31mKeyboardInterrupt\u001b[0m                         Traceback (most recent call last)",
      "\u001b[1;32m<ipython-input-32-a83a65906660>\u001b[0m in \u001b[0;36m<module>\u001b[1;34m\u001b[0m\n\u001b[1;32m----> 1\u001b[1;33m \u001b[0mtrajectories\u001b[0m\u001b[1;33m=\u001b[0m\u001b[0msimulation\u001b[0m\u001b[1;33m(\u001b[0m\u001b[1;33m)\u001b[0m\u001b[1;33m\u001b[0m\u001b[1;33m\u001b[0m\u001b[0m\n\u001b[0m",
      "\u001b[1;32m<ipython-input-4-7c4ac271defc>\u001b[0m in \u001b[0;36msimulation\u001b[1;34m()\u001b[0m\n\u001b[0;32m      1\u001b[0m \u001b[1;32mdef\u001b[0m \u001b[0msimulation\u001b[0m\u001b[1;33m(\u001b[0m\u001b[1;33m)\u001b[0m\u001b[1;33m:\u001b[0m\u001b[1;33m\u001b[0m\u001b[1;33m\u001b[0m\u001b[0m\n\u001b[0;32m      2\u001b[0m     \u001b[1;32mglobal\u001b[0m \u001b[0mshotPos\u001b[0m\u001b[1;33m\u001b[0m\u001b[1;33m\u001b[0m\u001b[0m\n\u001b[1;32m----> 3\u001b[1;33m     \u001b[0msimParam\u001b[0m \u001b[1;33m=\u001b[0m \u001b[0muserInput\u001b[0m\u001b[1;33m(\u001b[0m\u001b[1;33m)\u001b[0m\u001b[1;33m\u001b[0m\u001b[1;33m\u001b[0m\u001b[0m\n\u001b[0m\u001b[0;32m      4\u001b[0m \u001b[1;33m\u001b[0m\u001b[0m\n\u001b[0;32m      5\u001b[0m     \u001b[1;31m#Kick parameters such as randomized spin and inital position\u001b[0m\u001b[1;33m\u001b[0m\u001b[1;33m\u001b[0m\u001b[1;33m\u001b[0m\u001b[0m\n",
      "\u001b[1;32m<ipython-input-3-58217bf4c494>\u001b[0m in \u001b[0;36muserInput\u001b[1;34m()\u001b[0m\n\u001b[0;32m      8\u001b[0m         \u001b[0mprint\u001b[0m\u001b[1;33m(\u001b[0m\u001b[1;34m\"[3] - Top spin\"\u001b[0m\u001b[1;33m)\u001b[0m\u001b[1;33m\u001b[0m\u001b[1;33m\u001b[0m\u001b[0m\n\u001b[0;32m      9\u001b[0m         \u001b[0mprint\u001b[0m\u001b[1;33m(\u001b[0m\u001b[1;34m\"[4] - All spin\"\u001b[0m\u001b[1;33m)\u001b[0m\u001b[1;33m\u001b[0m\u001b[1;33m\u001b[0m\u001b[0m\n\u001b[1;32m---> 10\u001b[1;33m         \u001b[0mUserInput\u001b[0m \u001b[1;33m=\u001b[0m \u001b[0minput\u001b[0m\u001b[1;33m(\u001b[0m\u001b[1;33m)\u001b[0m\u001b[1;33m\u001b[0m\u001b[1;33m\u001b[0m\u001b[0m\n\u001b[0m\u001b[0;32m     11\u001b[0m         \u001b[0muserArray\u001b[0m\u001b[1;33m[\u001b[0m\u001b[1;36m0\u001b[0m\u001b[1;33m]\u001b[0m \u001b[1;33m=\u001b[0m \u001b[0mint\u001b[0m\u001b[1;33m(\u001b[0m\u001b[0mUserInput\u001b[0m\u001b[1;33m)\u001b[0m\u001b[1;33m-\u001b[0m\u001b[1;36m1\u001b[0m\u001b[1;33m\u001b[0m\u001b[1;33m\u001b[0m\u001b[0m\n\u001b[0;32m     12\u001b[0m         \u001b[1;32mif\u001b[0m\u001b[1;33m(\u001b[0m\u001b[0muserArray\u001b[0m\u001b[1;33m[\u001b[0m\u001b[1;36m0\u001b[0m\u001b[1;33m]\u001b[0m\u001b[1;33m!=\u001b[0m\u001b[1;36m0\u001b[0m \u001b[1;32mand\u001b[0m \u001b[0muserArray\u001b[0m\u001b[1;33m[\u001b[0m\u001b[1;36m0\u001b[0m\u001b[1;33m]\u001b[0m\u001b[1;33m!=\u001b[0m\u001b[1;36m1\u001b[0m \u001b[1;32mand\u001b[0m \u001b[0muserArray\u001b[0m\u001b[1;33m[\u001b[0m\u001b[1;36m0\u001b[0m\u001b[1;33m]\u001b[0m\u001b[1;33m!=\u001b[0m\u001b[1;36m2\u001b[0m \u001b[1;32mand\u001b[0m \u001b[0muserArray\u001b[0m\u001b[1;33m[\u001b[0m\u001b[1;36m0\u001b[0m\u001b[1;33m]\u001b[0m\u001b[1;33m!=\u001b[0m\u001b[1;36m3\u001b[0m\u001b[1;33m)\u001b[0m\u001b[1;33m:\u001b[0m\u001b[1;33m\u001b[0m\u001b[1;33m\u001b[0m\u001b[0m\n",
      "\u001b[1;32m~\\anaconda3\\lib\\site-packages\\ipykernel\\kernelbase.py\u001b[0m in \u001b[0;36mraw_input\u001b[1;34m(self, prompt)\u001b[0m\n\u001b[0;32m    858\u001b[0m                 \u001b[1;34m\"raw_input was called, but this frontend does not support input requests.\"\u001b[0m\u001b[1;33m\u001b[0m\u001b[1;33m\u001b[0m\u001b[0m\n\u001b[0;32m    859\u001b[0m             )\n\u001b[1;32m--> 860\u001b[1;33m         return self._input_request(str(prompt),\n\u001b[0m\u001b[0;32m    861\u001b[0m             \u001b[0mself\u001b[0m\u001b[1;33m.\u001b[0m\u001b[0m_parent_ident\u001b[0m\u001b[1;33m,\u001b[0m\u001b[1;33m\u001b[0m\u001b[1;33m\u001b[0m\u001b[0m\n\u001b[0;32m    862\u001b[0m             \u001b[0mself\u001b[0m\u001b[1;33m.\u001b[0m\u001b[0m_parent_header\u001b[0m\u001b[1;33m,\u001b[0m\u001b[1;33m\u001b[0m\u001b[1;33m\u001b[0m\u001b[0m\n",
      "\u001b[1;32m~\\anaconda3\\lib\\site-packages\\ipykernel\\kernelbase.py\u001b[0m in \u001b[0;36m_input_request\u001b[1;34m(self, prompt, ident, parent, password)\u001b[0m\n\u001b[0;32m    902\u001b[0m             \u001b[1;32mexcept\u001b[0m \u001b[0mKeyboardInterrupt\u001b[0m\u001b[1;33m:\u001b[0m\u001b[1;33m\u001b[0m\u001b[1;33m\u001b[0m\u001b[0m\n\u001b[0;32m    903\u001b[0m                 \u001b[1;31m# re-raise KeyboardInterrupt, to truncate traceback\u001b[0m\u001b[1;33m\u001b[0m\u001b[1;33m\u001b[0m\u001b[1;33m\u001b[0m\u001b[0m\n\u001b[1;32m--> 904\u001b[1;33m                 \u001b[1;32mraise\u001b[0m \u001b[0mKeyboardInterrupt\u001b[0m\u001b[1;33m(\u001b[0m\u001b[1;34m\"Interrupted by user\"\u001b[0m\u001b[1;33m)\u001b[0m \u001b[1;32mfrom\u001b[0m \u001b[1;32mNone\u001b[0m\u001b[1;33m\u001b[0m\u001b[1;33m\u001b[0m\u001b[0m\n\u001b[0m\u001b[0;32m    905\u001b[0m             \u001b[1;32mexcept\u001b[0m \u001b[0mException\u001b[0m \u001b[1;32mas\u001b[0m \u001b[0me\u001b[0m\u001b[1;33m:\u001b[0m\u001b[1;33m\u001b[0m\u001b[1;33m\u001b[0m\u001b[0m\n\u001b[0;32m    906\u001b[0m                 \u001b[0mself\u001b[0m\u001b[1;33m.\u001b[0m\u001b[0mlog\u001b[0m\u001b[1;33m.\u001b[0m\u001b[0mwarning\u001b[0m\u001b[1;33m(\u001b[0m\u001b[1;34m\"Invalid Message:\"\u001b[0m\u001b[1;33m,\u001b[0m \u001b[0mexc_info\u001b[0m\u001b[1;33m=\u001b[0m\u001b[1;32mTrue\u001b[0m\u001b[1;33m)\u001b[0m\u001b[1;33m\u001b[0m\u001b[1;33m\u001b[0m\u001b[0m\n",
      "\u001b[1;31mKeyboardInterrupt\u001b[0m: Interrupted by user"
     ]
    }
   ],
   "source": [
    "trajectories=simulation()"
   ]
  },
  {
   "cell_type": "code",
   "execution_count": null,
   "metadata": {
    "scrolled": false
   },
   "outputs": [
    {
     "name": "stdout",
     "output_type": "stream",
     "text": [
      "Running simulation, please wait...\n"
     ]
    },
    {
     "data": {
      "text/html": [
       "<div id=\"glowscript\" class=\"glowscript\"></div>"
      ],
      "text/plain": [
       "<IPython.core.display.HTML object>"
      ]
     },
     "metadata": {},
     "output_type": "display_data"
    },
    {
     "data": {
      "application/javascript": [
       "if (typeof Jupyter !== \"undefined\") { window.__context = { glowscript_container: $(\"#glowscript\").removeAttr(\"id\")};}else{ element.textContent = ' ';}"
      ],
      "text/plain": [
       "<IPython.core.display.Javascript object>"
      ]
     },
     "metadata": {},
     "output_type": "display_data"
    }
   ],
   "source": [
    "print(\"Running simulation, please wait...\")\n",
    "scene = canvas()\n",
    "\n",
    "balls=[]\n",
    "for i in range(len(trajectories)):\n",
    "    balls.append(sphere(radius = r, pos = vec(shotPos[0], shotPos[1]+r, shotPos[2]), color=color.white, make_trail=True))\n",
    "#ball = sphere(radius = r, pos = vec(shotPos[0], shotPos[1]+r, shotPos[2]), color=color.white, make_trail=True)\n",
    "goal1 = box(size=vec(3*crossbar, crossbar, 0.1), pos=vec(gol1Pos[0], crossbar/2, gol1Pos[2]))\n",
    "goal2 = box(size=vec(3*crossbar, crossbar, 0.1), pos=vec(gol2Pos[0], crossbar/2, gol2Pos[2]))\n",
    "field = box(size=vec(225*crossbar/8, crossbar/8, 300*crossbar/8), pos=vec(0, -crossbar/16, 0), color=color.green)\n",
    "\n",
    "scene.camera.pos = vec(20, 3, 40)\n",
    "scene.camera.axis= vec(0, 1, 40)-scene.camera.pos\n",
    "scene.autoscale=False\n",
    "\n",
    "scene.pause()\n",
    "\n",
    "for i in range(Nsteps):\n",
    "    rate(100)\n",
    "    for j in range(len(balls)):\n",
    "        balls[j].pos.x = trajectories[j][i][1]\n",
    "        balls[j].pos.y = trajectories[j][i][2]+r\n",
    "        balls[j].pos.z = trajectories[j][i][3]"
   ]
  },
  {
   "cell_type": "code",
   "execution_count": null,
   "metadata": {},
   "outputs": [],
   "source": [
    "print(trajectories)"
   ]
  },
  {
   "cell_type": "code",
   "execution_count": null,
   "metadata": {},
   "outputs": [],
   "source": []
  }
 ],
 "metadata": {
  "kernelspec": {
   "display_name": "Python 3",
   "language": "python",
   "name": "python3"
  },
  "language_info": {
   "codemirror_mode": {
    "name": "ipython",
    "version": 3
   },
   "file_extension": ".py",
   "mimetype": "text/x-python",
   "name": "python",
   "nbconvert_exporter": "python",
   "pygments_lexer": "ipython3",
   "version": "3.8.5"
  }
 },
 "nbformat": 4,
 "nbformat_minor": 4
}
